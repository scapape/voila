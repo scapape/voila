{
 "cells": [
  {
   "cell_type": "markdown",
   "metadata": {},
   "source": [
    "# Green receipt\n",
    "## From receipt image to list of items"
   ]
  },
  {
   "cell_type": "code",
   "execution_count": 1,
   "metadata": {},
   "outputs": [],
   "source": [
    "# !pip install voila # conda install -c conda-forge voila                                               \n",
    "# !jupyter serverextension enable voila --sys-prefix"
   ]
  },
  {
   "cell_type": "code",
   "execution_count": 2,
   "metadata": {
    "scrolled": true
   },
   "outputs": [],
   "source": [
    "import numpy as np\n",
    "import re\n",
    "import json\n",
    "\n",
    "import io\n",
    "from matplotlib import pyplot as plt\n",
    "from PIL import Image\n",
    "\n",
    "# IPython widgets\n",
    "import ipywidgets as widgets\n",
    "\n",
    "import cv2\n",
    "import pytesseract\n",
    "from pytesseract import Output\n",
    "%matplotlib inline"
   ]
  },
  {
   "cell_type": "markdown",
   "metadata": {},
   "source": [
    "## Function to incorporate as widget"
   ]
  },
  {
   "cell_type": "code",
   "execution_count": 3,
   "metadata": {},
   "outputs": [],
   "source": [
    "def ReceiptProcessing(pil_im):\n",
    "\n",
    "    thres = cv2.threshold(np.asarray(pil_im), 150, 255, cv2.THRESH_BINARY_INV)[1]\n",
    "    image = cv2.GaussianBlur(thres, (5,5), 0)\n",
    "    image = 255 - image\n",
    "\n",
    "    language = 'eng'\n",
    "    extracted_text = pytesseract.image_to_string(image, lang = language, config='--psm 3')\n",
    "\n",
    "    lines_with_pounds = []\n",
    "    for line in extracted_text.splitlines():\n",
    "        if re.search(r'£', line):\n",
    "            lines_with_pounds.append(line.lower())\n",
    "\n",
    "    items = []\n",
    "    for line in lines_with_pounds:\n",
    "        if re.search(r'balance', line):\n",
    "            total = line\n",
    "        elif re.search(r'visa', line):\n",
    "            PaymentType = 'card'\n",
    "        elif re.search(r'cash', line):\n",
    "            PaymentType = 'cash'\n",
    "        else:\n",
    "            items.append(line)\n",
    "\n",
    "    CostPattern = r'[0-9]+(\\.|,)[0-9]+'\n",
    "\n",
    "    ItemsDict = {}\n",
    "    for item in items:\n",
    "        details = item.split('£')\n",
    "\n",
    "        name = details[0].strip()\n",
    "\n",
    "        cost = details[-1].strip()\n",
    "        cost = ''.join(cost.split())\n",
    "        cost = float(re.search(CostPattern, cost).group())\n",
    "\n",
    "        ItemsDict[name] = {'cost': cost}\n",
    "\n",
    "    total = total.split('£')[-1]\n",
    "    total = ''.join(total.split())\n",
    "    total = float(re.search(CostPattern, total).group())\n",
    "    \n",
    "    receipt_ocr = {}\n",
    "    receipt_ocr['items'] = ItemsDict\n",
    "    receipt_ocr['total'] = total\n",
    "    receipt_json = json.dumps(receipt_ocr)\n",
    "    \n",
    "    return receipt_json"
   ]
  },
  {
   "cell_type": "code",
   "execution_count": 4,
   "metadata": {},
   "outputs": [],
   "source": [
    "btn_upload = widgets.FileUpload()\n",
    "btn_run = widgets.Button(description='Itemise')\n",
    "ReceiptOut = widgets.Output()\n",
    "ItemsOut = widgets.Output()"
   ]
  },
  {
   "cell_type": "code",
   "execution_count": 5,
   "metadata": {},
   "outputs": [],
   "source": [
    "def on_click_itemise(change):\n",
    "    #ReceiptOut.clear_output()\n",
    "    #ItemsOut.clear_output()\n",
    "    for name, file_info in btn_upload.value.items():\n",
    "        pil_im = Image.open(io.BytesIO(file_info['content']))\n",
    "    #plt.imshow(np.asarray(pil_im));\n",
    "    #plt.axis('off');\n",
    "    with ItemsOut:\n",
    "        print(ReceiptProcessing(pil_im))\n",
    "    with ReceiptOut:\n",
    "        size = [256, 256]\n",
    "        pil_im.thumbnail(size, Image.ANTIALIAS)\n",
    "        display(pil_im)\n",
    "\n",
    "\n",
    "btn_run.on_click(on_click_itemise)"
   ]
  },
  {
   "cell_type": "code",
   "execution_count": 6,
   "metadata": {
    "scrolled": true
   },
   "outputs": [
    {
     "data": {
      "application/vnd.jupyter.widget-view+json": {
       "model_id": "e96f64690af74597a62f5547264a5362",
       "version_major": 2,
       "version_minor": 0
      },
      "text/plain": [
       "VBox(children=(Label(value='Please upload your receipt'), FileUpload(value={}, description='Upload'), Button(d…"
      ]
     },
     "metadata": {},
     "output_type": "display_data"
    }
   ],
   "source": [
    "widgets.VBox([widgets.Label('Please upload your receipt'),\n",
    "              btn_upload, btn_run, ReceiptOut, ItemsOut])"
   ]
  },
  {
   "cell_type": "code",
   "execution_count": null,
   "metadata": {},
   "outputs": [],
   "source": []
  }
 ],
 "metadata": {
  "kernelspec": {
   "display_name": "Python 3",
   "language": "python",
   "name": "python3"
  },
  "language_info": {
   "codemirror_mode": {
    "name": "ipython",
    "version": 3
   },
   "file_extension": ".py",
   "mimetype": "text/x-python",
   "name": "python",
   "nbconvert_exporter": "python",
   "pygments_lexer": "ipython3",
   "version": "3.8.5"
  }
 },
 "nbformat": 4,
 "nbformat_minor": 4
}
